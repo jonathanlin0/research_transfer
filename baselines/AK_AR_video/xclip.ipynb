{
 "cells": [
  {
   "cell_type": "markdown",
   "metadata": {},
   "source": [
    "# Testing Action Recognition by video using XClip\n",
    "\n",
    "In the Animal Kingdom dataset, action recognition is tested for unseen types of aniimals. Video clips of 6 action classes (moving, eating, attending, swimming, sensing, and keeping still). Then we select 4 animal types (birds, fishes, frogs, snakes) for training. Then we select 5 animal types for testing (lizards, primates, spiders, orthopteran insects, water fowls)\n",
    "\n",
    "#### action indexes:\n",
    "moving = 78 \\\n",
    "eating = 40 \\\n",
    "attending = 2 \\\n",
    "swimming = 123 \\\n",
    "sensing = 102 \\\n",
    "keeping still = 68"
   ]
  },
  {
   "cell_type": "markdown",
   "metadata": {},
   "source": [
    "prepare data"
   ]
  },
  {
   "cell_type": "code",
   "execution_count": 143,
   "metadata": {},
   "outputs": [],
   "source": [
    "# remove all videos that do not meet criteria\n",
    "# 1. only 1 action\n",
    "# 2. action is one of the following\n",
    "# 3. species is listed\n",
    "\n",
    "# so get all valid videos\n",
    "\n",
    "import pandas as pd\n",
    "import csv\n",
    "import json\n",
    "from tqdm import tqdm"
   ]
  },
  {
   "cell_type": "code",
   "execution_count": 144,
   "metadata": {},
   "outputs": [
    {
     "name": "stderr",
     "output_type": "stream",
     "text": [
      "No accelerated colorspace conversion found from yuv420p to rgb24.\n",
      " (repeated 7 more times)\n"
     ]
    }
   ],
   "source": [
    "# go through pose estimation data to find the frames of animals for training and testing dataset that correspond with the correct classes\n",
    "\n",
    "# the training and val subclasses data structures are organized where the key of the dict is the official subclass name found the in the data, and the value is the alias we will use for the clip model\n",
    "\n",
    "training_subclasses = {\n",
    "    \"Bird\": \"bird\",\n",
    "    \"Fish\": \"fish\",\n",
    "    \"Frog / Toad\": \"frog\",\n",
    "    \"Snake / Cobra / Viper / Python\": \"snake\"\n",
    "}\n",
    "\n",
    "# spiders and orthopteran insects not found in Animal Kingdom dataset\n",
    "val_subclasses = {\n",
    "    \"Lizard / Gecko / Draco / Iguana / Chamelon\": \"lizard\",\n",
    "    \"Primate / Monkey / Macaque / Baboon / Chimpanzee / Gorilla / Orangutan / Langur\": \"primate\",\n",
    "    \"Water bird / Duck / Swan / Goose\": \"water fowl\"\n",
    "}\n",
    "\n",
    "all_data = []\n",
    "f = open(\"/Users/jonathanlin/Documents/GitHub/research_transfer/datasets/Animal_Kingdom/pose_estimation/annotation/ak_P1/train.json\", \"r\")\n",
    "train_set = json.load(f)\n",
    "f.close()\n",
    "all_data = all_data + train_set\n",
    "f = open(\"/Users/jonathanlin/Documents/GitHub/research_transfer/datasets/Animal_Kingdom/pose_estimation/annotation/ak_P1/test.json\", \"r\")\n",
    "test_set = json.load(f)\n",
    "f.close()\n",
    "all_data = all_data + test_set\n",
    "\n",
    "# example data element\n",
    "# {\n",
    "    # ak_P1/0000: {\n",
    "    #     image_subclass: penguin,\n",
    "    #     dataset: train,\n",
    "    #     action: 3\n",
    "    # }\n",
    "# }\n",
    "data = {}\n",
    "\n",
    "# add all the animals that are listed in the training or testing dataset\n",
    "for i in range(len(all_data)):\n",
    "    animal = all_data[i]\n",
    "    if animal[\"animal_subclass\"] in training_subclasses:\n",
    "        # have to replace _f with _t because the PE images have _f while AR frames have _t. even tho it's the same image\n",
    "        frame = animal[\"image\"].replace(\"_f\", \"_t\")\n",
    "        data[frame] = {\n",
    "            \"image_subclass\": training_subclasses[animal[\"animal_subclass\"]],\n",
    "            \"dataset\": \"train\"\n",
    "        }\n",
    "    if animal[\"animal_subclass\"] in val_subclasses:\n",
    "        # have to replace _f with _t because the PE images have _f while AR frames have _t. even tho it's the same image\n",
    "        frame = animal[\"image\"].replace(\"_f\", \"_t\")\n",
    "        data[frame] = {\n",
    "            \"image_subclass\": val_subclasses[animal[\"animal_subclass\"]],\n",
    "            \"dataset\": \"validation\"\n",
    "        }"
   ]
  },
  {
   "cell_type": "code",
   "execution_count": 145,
   "metadata": {},
   "outputs": [],
   "source": [
    "valid_actions = [\"78\", \"40\", \"2\", \"123\", \"102\", \"68\"]\n",
    "\n",
    "# create list of images from the training and testing set\n",
    "csv_path = \"/Users/jonathanlin/Documents/GitHub/research_transfer/datasets/Animal_Kingdom/action_recognition/annotation/train.csv\"\n",
    "frame_train = pd.read_csv(csv_path, delimiter=' ', skiprows=[0])\n",
    "csv_path = \"/Users/jonathanlin/Documents/GitHub/research_transfer/datasets/Animal_Kingdom/action_recognition/annotation/val.csv\"\n",
    "frame_val = pd.read_csv(csv_path, delimiter=' ', skiprows=[0])\n",
    "\n",
    "combined_frame = pd.concat([frame_train, frame_val])\n",
    "\n",
    "for row in combined_frame.itertuples(index=False):\n",
    "    path = row[3]\n",
    "    if path in data:\n",
    "        action_indexes = row[4].split(\",\")\n",
    "        # as per the paper, only include frames with 1 action\n",
    "        if len(action_indexes) == 1:\n",
    "            if action_indexes[0] in valid_actions:\n",
    "                data[path][\"action\"] = action_indexes[0]\n",
    "\n",
    "# delete all the frames that don't have an action\n",
    "for key in list(data.keys()):\n",
    "    if \"action\" not in data[key]:\n",
    "        del data[key]"
   ]
  },
  {
   "cell_type": "code",
   "execution_count": 146,
   "metadata": {},
   "outputs": [],
   "source": [
    "video_data = {}\n",
    "for key in data:\n",
    "    if key[:key.index(\"/\")] not in video_data:\n",
    "        video_data[key[:key.index(\"/\")]] = data[key]"
   ]
  },
  {
   "cell_type": "markdown",
   "metadata": {},
   "source": [
    "## Testing\n",
    "`1` is True. `0` is False."
   ]
  },
  {
   "cell_type": "code",
   "execution_count": 147,
   "metadata": {},
   "outputs": [],
   "source": [
    "# utility functions\n",
    "\n",
    "import av\n",
    "import torch\n",
    "import numpy as np\n",
    "from time import sleep\n",
    "from transformers import AutoProcessor, AutoModel\n",
    "from huggingface_hub import hf_hub_download\n",
    "\n",
    "def read_video_pyav(container, indices):\n",
    "    '''\n",
    "    Decode the video with PyAV decoder.\n",
    "    Args:\n",
    "        container (`av.container.input.InputContainer`): PyAV container.\n",
    "        indices (`List[int]`): List of frame indices to decode.\n",
    "    Returns:\n",
    "        result (np.ndarray): np array of decoded frames of shape (num_frames, height, width, 3).\n",
    "    '''\n",
    "    frames = []\n",
    "    container.seek(0)\n",
    "    start_index = indices[0]\n",
    "    end_index = indices[-1]\n",
    "    for i, frame in enumerate(container.decode(video=0)):\n",
    "        if i > end_index:\n",
    "            break\n",
    "        if i >= start_index and i in indices:\n",
    "            frames.append(frame)\n",
    "    return np.stack([x.to_ndarray(format=\"rgb24\") for x in frames])\n",
    "\n",
    "\n",
    "# seg_len is the total number of frames in the video\n",
    "# clip_len is the number of frames we want to sample from the video\n",
    "# frame_sample_rate is the number of frames we want to sample per second\n",
    "def sample_frame_indices(clip_len, frame_sample_rate, seg_len):\n",
    "    converted_len = int(clip_len * frame_sample_rate)\n",
    "    end_idx = np.random.randint(converted_len, seg_len)\n",
    "    start_idx = end_idx - converted_len\n",
    "    indices = np.linspace(start_idx, end_idx, num=clip_len)\n",
    "    indices = np.clip(indices, start_idx, end_idx - 1).astype(np.int64)\n",
    "    return indices\n",
    "\n",
    "processor = AutoProcessor.from_pretrained(\"microsoft/xclip-base-patch32\")\n",
    "model = AutoModel.from_pretrained(\"microsoft/xclip-base-patch32\")\n",
    "\n",
    "import sys\n",
    "from contextlib import redirect_stdout, redirect_stderr"
   ]
  },
  {
   "cell_type": "markdown",
   "metadata": {},
   "source": [
    "test for \"a `{animal}` is `{action}`\". example: \"a dog is swimming\""
   ]
  },
  {
   "cell_type": "code",
   "execution_count": 148,
   "metadata": {},
   "outputs": [],
   "source": [
    "# create the strings using the above \"a {animal} is {action}\" format to be fed into CLIP\n",
    "\n",
    "df = pd.read_excel(\"/Users/jonathanlin/Documents/GitHub/research_transfer/datasets/Animal_Kingdom/action_recognition/annotation/df_action.xlsx\")\n",
    "\n",
    "training_strings = []\n",
    "val_strings = []\n",
    "\n",
    "for subclass in training_subclasses:\n",
    "    for action in valid_actions:\n",
    "        training_strings.append(f\"a {training_subclasses[subclass]} is {df.at[int(action), 'action'].lower()}\")\n",
    "\n",
    "for subclass in val_subclasses:\n",
    "    for action in valid_actions:\n",
    "        val_strings.append(f\"a {val_subclasses[subclass]} is {df.at[int(action), 'action'].lower()}\")"
   ]
  },
  {
   "cell_type": "code",
   "execution_count": 152,
   "metadata": {},
   "outputs": [
    {
     "name": "stderr",
     "output_type": "stream",
     "text": [
      "100%|██████████| 1436/1436 [08:12<00:00,  2.92it/s]\n"
     ]
    }
   ],
   "source": [
    "database_train_subclass = {\n",
    "    \"bird\": [],\n",
    "    \"fish\": [],\n",
    "    \"frog\": [],\n",
    "    \"snake\": []\n",
    "}\n",
    "database_val_subclass = {\n",
    "    \"lizard\": [],\n",
    "    \"primate\": [],\n",
    "    \"water fowl\": []\n",
    "}\n",
    "\n",
    "database_actions_subclass = {}\n",
    "\n",
    "video_dir = \"/Users/jonathanlin/Documents/GitHub/research_transfer/datasets/Animal_Kingdom/action_recognition/dataset/video/\"\n",
    "\n",
    "# get 8 frames spread throughout the video\n",
    "def get_frames(clip_len):\n",
    "    return np.linspace(0, clip_len - 1, 8).astype(np.int64)\n",
    "\n",
    "for vid_path, _ in tqdm(video_data.items()):\n",
    "    with redirect_stdout(None), redirect_stderr(None):\n",
    "        label_num = video_data[vid_path][\"action\"]\n",
    "        full_image_path = video_dir + vid_path\n",
    "        \n",
    "        correct_label = df.at[int(label_num), 'action'].lower()\n",
    "\n",
    "\n",
    "        # read in video\n",
    "        container = av.open(video_dir + vid_path + \".mp4\")\n",
    "\n",
    "        # sample 8 frames\n",
    "        indices = sample_frame_indices(clip_len=8, frame_sample_rate = container.streams.video[0].frames // 8 - 1, seg_len=container.streams.video[0].frames)\n",
    "        video = read_video_pyav(container, get_frames(clip_len=8))\n",
    "\n",
    "        text_labels = training_strings if video_data[vid_path][\"dataset\"] == \"train\" else val_strings\n",
    "\n",
    "        inputs = processor(\n",
    "            text=text_labels,\n",
    "            videos=list(video),\n",
    "            return_tensors=\"pt\",\n",
    "            padding=True,\n",
    "        )\n",
    "\n",
    "        # forward pass\n",
    "        with torch.no_grad():\n",
    "            outputs = model(**inputs)\n",
    "\n",
    "        logits_per_video = outputs.logits_per_video  # this is the video-text similarity score\n",
    "        probs = logits_per_video.softmax(dim=1)  # we can take the softmax to get the label probabilities\n",
    "        index = torch.argmax(probs)\n",
    "\n",
    "\n",
    "        # add stat for subclass accuracy stat\n",
    "        if video_data[vid_path][\"dataset\"] == \"train\":\n",
    "            action = training_strings[index].split(\" \")[-1]\n",
    "            if action == correct_label:\n",
    "                database_train_subclass[video_data[vid_path][\"image_subclass\"]].append(1)\n",
    "            else:\n",
    "                database_train_subclass[video_data[vid_path][\"image_subclass\"]].append(0)\n",
    "        else:\n",
    "            action = val_strings[index].split(\" \")[-1]\n",
    "            if action == correct_label:\n",
    "                database_val_subclass[video_data[vid_path][\"image_subclass\"]].append(1)\n",
    "            else:\n",
    "                database_val_subclass[video_data[vid_path][\"image_subclass\"]].append(0)\n",
    "        \n",
    "        # add stat for action accuracy stat\n",
    "        if correct_label not in database_actions_subclass:\n",
    "            database_actions_subclass[correct_label] = []\n",
    "        if action == correct_label:\n",
    "            database_actions_subclass[correct_label].append(1)\n",
    "        else:\n",
    "            database_actions_subclass[correct_label].append(0)"
   ]
  },
  {
   "cell_type": "code",
   "execution_count": 154,
   "metadata": {},
   "outputs": [
    {
     "name": "stderr",
     "output_type": "stream",
     "text": [
      "No accelerated colorspace conversion found from yuv420p to rgb24.\n",
      " (repeated 7 more times)\n"
     ]
    },
    {
     "ename": "TypeError",
     "evalue": "'float' object is not iterable",
     "output_type": "error",
     "traceback": [
      "\u001b[0;31m---------------------------------------------------------------------------\u001b[0m",
      "\u001b[0;31mTypeError\u001b[0m                                 Traceback (most recent call last)",
      "Cell \u001b[0;32mIn[154], line 3\u001b[0m\n\u001b[1;32m      1\u001b[0m database_train_subclass_avg \u001b[39m=\u001b[39m []\n\u001b[1;32m      2\u001b[0m \u001b[39mfor\u001b[39;00m animal \u001b[39min\u001b[39;00m database_train_subclass:\n\u001b[0;32m----> 3\u001b[0m     database_train_subclass_avg \u001b[39m+\u001b[39m\u001b[39m=\u001b[39m database_train_subclass[animal]\n\u001b[1;32m      4\u001b[0m     database_train_subclass[animal] \u001b[39m=\u001b[39m database_train_subclass[animal]\u001b[39m.\u001b[39mcount(\u001b[39m1\u001b[39m) \u001b[39m/\u001b[39m \u001b[39mlen\u001b[39m(database_train_subclass[animal])\n\u001b[1;32m      6\u001b[0m database_val_subclass_avg \u001b[39m=\u001b[39m []\n",
      "\u001b[0;31mTypeError\u001b[0m: 'float' object is not iterable"
     ]
    }
   ],
   "source": [
    "database_train_subclass_avg = []\n",
    "for animal in database_train_subclass:\n",
    "    database_train_subclass_avg += database_train_subclass[animal]\n",
    "    database_train_subclass[animal] = database_train_subclass[animal].count(1) / len(database_train_subclass[animal])\n",
    "\n",
    "database_val_subclass_avg = []\n",
    "for animal in database_val_subclass:\n",
    "    database_val_subclass_avg += database_val_subclass[animal]\n",
    "    database_val_subclass[animal] = database_val_subclass[animal].count(1) / len(database_val_subclass[animal])\n",
    "\n",
    "print(database_train_subclass_avg)\n",
    "print(database_val_subclass_avg)\n",
    "print(database_train_subclass)\n",
    "print(database_val_subclass)"
   ]
  },
  {
   "cell_type": "code",
   "execution_count": null,
   "metadata": {},
   "outputs": [
    {
     "name": "stderr",
     "output_type": "stream",
     "text": [
      "No accelerated colorspace conversion found from yuv420p to rgb24.\n",
      " (repeated 7 more times)\n",
      "No accelerated colorspace conversion found from yuv420p to rgb24.\n"
     ]
    },
    {
     "name": "stdout",
     "output_type": "stream",
     "text": [
      "tensor([[0.6951, 0.2023, 0.1026]])\n"
     ]
    }
   ],
   "source": [
    "import av\n",
    "import torch\n",
    "import numpy as np\n",
    "\n",
    "from transformers import AutoProcessor, AutoModel\n",
    "from huggingface_hub import hf_hub_download\n",
    "\n",
    "np.random.seed(0)\n",
    "\n",
    "\n",
    "def read_video_pyav(container, indices):\n",
    "    '''\n",
    "    Decode the video with PyAV decoder.\n",
    "    Args:\n",
    "        container (`av.container.input.InputContainer`): PyAV container.\n",
    "        indices (`List[int]`): List of frame indices to decode.\n",
    "    Returns:\n",
    "        result (np.ndarray): np array of decoded frames of shape (num_frames, height, width, 3).\n",
    "    '''\n",
    "    frames = []\n",
    "    container.seek(0)\n",
    "    start_index = indices[0]\n",
    "    end_index = indices[-1]\n",
    "    for i, frame in enumerate(container.decode(video=0)):\n",
    "        if i > end_index:\n",
    "            break\n",
    "        if i >= start_index and i in indices:\n",
    "            frames.append(frame)\n",
    "    return np.stack([x.to_ndarray(format=\"rgb24\") for x in frames])\n",
    "\n",
    "\n",
    "def sample_frame_indices(clip_len, frame_sample_rate, seg_len):\n",
    "    converted_len = int(clip_len * frame_sample_rate)\n",
    "    end_idx = np.random.randint(converted_len, seg_len)\n",
    "    start_idx = end_idx - converted_len\n",
    "    indices = np.linspace(start_idx, end_idx, num=clip_len)\n",
    "    indices = np.clip(indices, start_idx, end_idx - 1).astype(np.int64)\n",
    "    return indices\n",
    "\n",
    "\n",
    "# video clip consists of 300 frames (10 seconds at 30 FPS)\n",
    "container = av.open(\"/Users/jonathanlin/Documents/GitHub/research_transfer/datasets/Animal_Kingdom/action_recognition/dataset/video/AAACXZTV.mp4\")\n",
    "\n",
    "# sample 8 frames\n",
    "indices = sample_frame_indices(clip_len=8, frame_sample_rate= container.streams.video[0].frames // 8 - 1, seg_len=container.streams.video[0].frames)\n",
    "video = read_video_pyav(container, indices)\n",
    "\n",
    "processor = AutoProcessor.from_pretrained(\"microsoft/xclip-base-patch32\")\n",
    "model = AutoModel.from_pretrained(\"microsoft/xclip-base-patch32\")\n",
    "\n",
    "inputs = processor(\n",
    "    text=[\"ostrich standing\", \"bug standing\", \"cow standing\"],\n",
    "    videos=list(video),\n",
    "    return_tensors=\"pt\",\n",
    "    padding=True,\n",
    ")\n",
    "\n",
    "# forward pass\n",
    "with torch.no_grad():\n",
    "    outputs = model(**inputs)\n",
    "\n",
    "logits_per_video = outputs.logits_per_video  # this is the video-text similarity score\n",
    "probs = logits_per_video.softmax(dim=1)  # we can take the softmax to get the label probabilities\n",
    "print(probs)\n"
   ]
  },
  {
   "cell_type": "code",
   "execution_count": 164,
   "metadata": {},
   "outputs": [
    {
     "data": {
      "image/png": "[encoded data removed]",
      "text/plain": [
       "<Figure size 800x600 with 2 Axes>"
      ]
     },
     "metadata": {},
     "output_type": "display_data"
    }
   ],
   "source": [
    "import numpy as np\n",
    "import matplotlib.pyplot as plt\n",
    "import seaborn as sns\n",
    "from sklearn.metrics import confusion_matrix\n",
    "from sklearn.datasets import load_iris\n",
    "from sklearn.model_selection import train_test_split\n",
    "from sklearn.svm import SVC\n",
    "\n",
    "# Load example data (Iris dataset)\n",
    "iris = load_iris()\n",
    "X = iris.data\n",
    "y = iris.target\n",
    "\n",
    "# Split the data into training and testing sets\n",
    "X_train, X_test, y_train, y_test = train_test_split(X, y, test_size=0.2, random_state=42)\n",
    "\n",
    "# Train a classifier (e.g., Support Vector Machine)\n",
    "classifier = SVC(kernel='linear')\n",
    "classifier.fit(X_train, y_train)\n",
    "\n",
    "# Make predictions on the test set\n",
    "y_pred = classifier.predict(X_test)\n",
    "\n",
    "# Create the confusion matrix\n",
    "cm = confusion_matrix(y_test, y_pred)\n",
    "\n",
    "# Calculate accuracy for each class and normalize the confusion matrix\n",
    "class_accuracy = cm.astype('float') / cm.sum(axis=1)[:, np.newaxis]\n",
    "\n",
    "# Plot the confusion matrix as a heatmap with accuracy percentages\n",
    "plt.figure(figsize=(8, 6))\n",
    "sns.heatmap(class_accuracy, annot=True, cmap='Blues', fmt='.2f', xticklabels=iris.target_names, yticklabels=iris.target_names)\n",
    "plt.xlabel('Predicted Labels')\n",
    "plt.ylabel('True Labels')\n",
    "plt.title('Confusion Matrix (Accuracy)')\n",
    "plt.show()\n"
   ]
  },
  {
   "cell_type": "code",
   "execution_count": null,
   "metadata": {},
   "outputs": [],
   "source": []
  }
 ],
 "metadata": {
  "kernelspec": {
   "display_name": "Python 3",
   "language": "python",
   "name": "python3"
  },
  "language_info": {
   "codemirror_mode": {
    "name": "ipython",
    "version": 3
   },
   "file_extension": ".py",
   "mimetype": "text/x-python",
   "name": "python",
   "nbconvert_exporter": "python",
   "pygments_lexer": "ipython3",
   "version": "3.10.11"
  },
  "orig_nbformat": 4
 },
 "nbformat": 4,
 "nbformat_minor": 2
}
