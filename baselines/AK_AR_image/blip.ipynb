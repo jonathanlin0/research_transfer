{
 "cells": [
  {
   "cell_type": "markdown",
   "metadata": {},
   "source": [
    "# Testing Action Recognition by image using Blip"
   ]
  },
  {
   "cell_type": "markdown",
   "metadata": {},
   "source": [
    "In the Animal Kingdom dataset, action recognition is tested for unseen types of aniimals. Video clips of 6 action classes (moving, eating, attending, swimming, sensing, and keeping still). Then we select 4 animal types (birds, fishes, frogs, snakes) for training. Then we select 5 animal types for testing (lizards, primates, spiders, orthopteran insects, water fowls)\n",
    "\n",
    "#### action indexes:\n",
    "moving = 78 \\\n",
    "eating = 40 \\\n",
    "attending = 2 \\\n",
    "swimming = 123 \\\n",
    "sensing = 102 \\\n",
    "keeping still = 68"
   ]
  },
  {
   "cell_type": "markdown",
   "metadata": {},
   "source": [
    "## Data Preparation"
   ]
  },
  {
   "cell_type": "code",
   "execution_count": 44,
   "metadata": {},
   "outputs": [],
   "source": [
    "import pandas as pd\n",
    "import csv\n",
    "import json\n",
    "from tqdm import tqdm"
   ]
  },
  {
   "cell_type": "code",
   "execution_count": 45,
   "metadata": {},
   "outputs": [],
   "source": [
    "# go through pose estimation data to find the frames of animals for training and testing dataset that correspond with the correct classes\n",
    "\n",
    "# the training and val subclasses data structures are organized where the key of the dict is the official subclass name found the in the data, and the value is the alias we will use for the clip model\n",
    "\n",
    "training_subclasses = {\n",
    "    \"Bird\": \"bird\",\n",
    "    \"Fish\": \"fish\",\n",
    "    \"Frog / Toad\": \"frog\",\n",
    "    \"Snake / Cobra / Viper / Python\": \"snake\"\n",
    "}\n",
    "\n",
    "# spiders and orthopteran insects not found in Animal Kingdom dataset\n",
    "val_subclasses = {\n",
    "    \"Lizard / Gecko / Draco / Iguana / Chamelon\": \"lizard\",\n",
    "    \"Primate / Monkey / Macaque / Baboon / Chimpanzee / Gorilla / Orangutan / Langur\": \"primate\",\n",
    "    \"Water bird / Duck / Swan / Goose\": \"water fowl\"\n",
    "}\n",
    "\n",
    "all_data = []\n",
    "f = open(\"/Users/jonathanlin/Documents/GitHub/research_transfer/datasets/Animal_Kingdom/pose_estimation/annotation/ak_P1/train.json\", \"r\")\n",
    "train_set = json.load(f)\n",
    "f.close()\n",
    "all_data = all_data + train_set\n",
    "f = open(\"/Users/jonathanlin/Documents/GitHub/research_transfer/datasets/Animal_Kingdom/pose_estimation/annotation/ak_P1/test.json\", \"r\")\n",
    "test_set = json.load(f)\n",
    "f.close()\n",
    "all_data = all_data + test_set\n",
    "\n",
    "# example data element\n",
    "# {\n",
    "    # ak_P1/0000: {\n",
    "    #     image_subclass: penguin,\n",
    "    #     dataset: train,\n",
    "    #     action: 3\n",
    "    # }\n",
    "# }\n",
    "data = {}\n",
    "\n",
    "# add all the animals that are listed in the training or testing dataset\n",
    "for i in range(len(all_data)):\n",
    "    animal = all_data[i]\n",
    "    if animal[\"animal_subclass\"] in training_subclasses:\n",
    "        # have to replace _f with _t because the PE images have _f while AR frames have _t. even tho it's the same image\n",
    "        frame = animal[\"image\"].replace(\"_f\", \"_t\")\n",
    "        data[frame] = {\n",
    "            \"image_subclass\": training_subclasses[animal[\"animal_subclass\"]],\n",
    "            \"dataset\": \"train\"\n",
    "        }\n",
    "    if animal[\"animal_subclass\"] in val_subclasses:\n",
    "        # have to replace _f with _t because the PE images have _f while AR frames have _t. even tho it's the same image\n",
    "        frame = animal[\"image\"].replace(\"_f\", \"_t\")\n",
    "        data[frame] = {\n",
    "            \"image_subclass\": val_subclasses[animal[\"animal_subclass\"]],\n",
    "            \"dataset\": \"validation\"\n",
    "        }"
   ]
  },
  {
   "cell_type": "code",
   "execution_count": 46,
   "metadata": {},
   "outputs": [],
   "source": [
    "valid_actions = [\"78\", \"40\", \"2\", \"123\", \"102\", \"68\"]\n",
    "\n",
    "# create list of images from the training and testing set\n",
    "csv_path = \"/Users/jonathanlin/Documents/GitHub/research_transfer/datasets/Animal_Kingdom/action_recognition/annotation/train.csv\"\n",
    "frame_train = pd.read_csv(csv_path, delimiter=' ', skiprows=[0])\n",
    "csv_path = \"/Users/jonathanlin/Documents/GitHub/research_transfer/datasets/Animal_Kingdom/action_recognition/annotation/val.csv\"\n",
    "frame_val = pd.read_csv(csv_path, delimiter=' ', skiprows=[0])\n",
    "\n",
    "combined_frame = pd.concat([frame_train, frame_val])\n",
    "\n",
    "for row in combined_frame.itertuples(index=False):\n",
    "    path = row[3]\n",
    "    if path in data:\n",
    "        action_indexes = row[4].split(\",\")\n",
    "        # as per the paper, only include frames with 1 action\n",
    "        if len(action_indexes) == 1:\n",
    "            if action_indexes[0] in valid_actions:\n",
    "                data[path][\"action\"] = action_indexes[0]\n",
    "\n",
    "# delete all the frames that don't have an action\n",
    "for key in list(data.keys()):\n",
    "    if \"action\" not in data[key]:\n",
    "        del data[key]\n",
    "        "
   ]
  },
  {
   "cell_type": "markdown",
   "metadata": {},
   "source": [
    "create the strings that are going to be fed into the clip model"
   ]
  },
  {
   "cell_type": "code",
   "execution_count": 47,
   "metadata": {},
   "outputs": [],
   "source": [
    "df = pd.read_excel(\"/Users/jonathanlin/Documents/GitHub/research_transfer/datasets/Animal_Kingdom/action_recognition/annotation/df_action.xlsx\")\n",
    "\n",
    "training_strings = []\n",
    "val_strings = []\n",
    "\n",
    "for subclass in training_subclasses:\n",
    "    for action in valid_actions:\n",
    "        training_strings.append(f\"a {training_subclasses[subclass]} is {df.at[int(action), 'action'].lower()}\")\n",
    "\n",
    "for subclass in val_subclasses:\n",
    "    for action in valid_actions:\n",
    "        val_strings.append(f\"a {val_subclasses[subclass]} is {df.at[int(action), 'action'].lower()}\")"
   ]
  },
  {
   "cell_type": "markdown",
   "metadata": {},
   "source": [
    "## Testing"
   ]
  },
  {
   "cell_type": "markdown",
   "metadata": {},
   "source": [
    "test for \"a `{animal}` is `{action}`\". example: \"a dog is swimming\""
   ]
  },
  {
   "cell_type": "code",
   "execution_count": 48,
   "metadata": {},
   "outputs": [
    {
     "name": "stderr",
     "output_type": "stream",
     "text": [
      "100%|██████████| 7247/7247 [10:18<00:00, 11.73it/s]\n"
     ]
    }
   ],
   "source": [
    "from PIL import Image\n",
    "from transformers import CLIPProcessor, CLIPModel\n",
    "import torch\n",
    "import numpy as np\n",
    "import matplotlib.pyplot as plt\n",
    "\n",
    "model = CLIPModel.from_pretrained(\"openai/clip-vit-base-patch32\")\n",
    "processor = CLIPProcessor.from_pretrained(\"openai/clip-vit-base-patch32\")\n",
    "\n",
    "image_dir = \"/Users/jonathanlin/Documents/GitHub/research_transfer/datasets/Animal_Kingdom/action_recognition/dataset/image/\"\n",
    "\n",
    "database_train = {\n",
    "    \"bird\": [],\n",
    "    \"fish\": [],\n",
    "    \"frog\": [],\n",
    "    \"snake\": []\n",
    "}\n",
    "database_val = {\n",
    "    \"lizard\": [],\n",
    "    \"primate\": [],\n",
    "    \"water fowl\": []\n",
    "}\n",
    "for image_path, _ in tqdm(data.items()):\n",
    "# for image_path in data:\n",
    "    label_num = data[image_path][\"action\"]\n",
    "    full_image_path = image_dir + image_path\n",
    "    \n",
    "    converted_label = df.at[int(label_num), 'action'].lower()\n",
    "    # valid_actions = []\n",
    "    # for action in labels:\n",
    "    #     valid_actions.append(df.at[int(action), 'action'].lower())\n",
    "\n",
    "    image = Image.open(full_image_path)\n",
    "\n",
    "    inputs = None\n",
    "    if data[image_path][\"dataset\"] == \"train\":\n",
    "        inputs = processor(text=training_strings, images=image, return_tensors=\"pt\", padding=True)\n",
    "    else:\n",
    "        inputs = processor(text=val_strings, images=image, return_tensors=\"pt\", padding=True)\n",
    "\n",
    "    outputs = model(**inputs)\n",
    "    logits_per_image = outputs.logits_per_image  # this is the image-text similarity score\n",
    "    probs = logits_per_image.softmax(dim=1)  # we can take the softmax to get the label probabilities\n",
    "    index = torch.argmax(probs)\n",
    "\n",
    "    if data[image_path][\"dataset\"] == \"train\":\n",
    "        action = training_strings[index].split(\" \")[-1]\n",
    "        if action == converted_label:\n",
    "            database_train[data[image_path][\"image_subclass\"]].append(1)\n",
    "        else:\n",
    "            database_train[data[image_path][\"image_subclass\"]].append(0)\n",
    "    else:\n",
    "        action = val_strings[index].split(\" \")[-1]\n",
    "        if action == converted_label:\n",
    "            database_val[data[image_path][\"image_subclass\"]].append(1)\n",
    "        else:\n",
    "            database_val[data[image_path][\"image_subclass\"]].append(0)"
   ]
  },
  {
   "cell_type": "code",
   "execution_count": 49,
   "metadata": {},
   "outputs": [
    {
     "name": "stdout",
     "output_type": "stream",
     "text": [
      "{'lizard': 0.17217524980784013, 'primate': 0.1414141414141414, 'water fowl': 1.0}\n"
     ]
    }
   ],
   "source": [
    "# convert the dictionary values to percentages\n",
    "\n",
    "for animal in database_train:\n",
    "    database_train[animal] = database_train[animal].count(1) / len(database_train[animal])\n",
    "\n",
    "for animal in database_val:\n",
    "    database_val[animal] = database_val[animal].count(1) / len(database_val[animal])"
   ]
  },
  {
   "cell_type": "code",
   "execution_count": 65,
   "metadata": {},
   "outputs": [
    {
     "data": {
      "image/png": "[encoded data removed]",
      "text/plain": [
       "<Figure size 1000x500 with 2 Axes>"
      ]
     },
     "metadata": {},
     "output_type": "display_data"
    }
   ],
   "source": [
    "import matplotlib.pyplot as plt\n",
    "\n",
    "categories1 = list(database_train.keys())\n",
    "values1 = list(database_train.values())\n",
    "categories1.insert(0, \"AVERAGE\")\n",
    "values1.insert(0, sum(values1) / len(values1))\n",
    "categories2 = list(database_val.keys())\n",
    "values2 = list(database_val.values())\n",
    "categories2.insert(0, \"AVERAGE\")\n",
    "values2.insert(0, sum(values2) / len(values2))\n",
    "\n",
    "fig, (ax1, ax2) = plt.subplots(1, 2, figsize=(10, 5))\n",
    "\n",
    "# Plot the first bar chart on the first subplot\n",
    "ax1.bar(categories1, values1, color=[\"#16a34a\", \"#0ea5e9\", \"#0ea5e9\", \"#0ea5e9\", \"#0ea5e9\"])\n",
    "ax1.set_xlabel('Animal Subclasses')\n",
    "ax1.set_ylabel('Accuracy')\n",
    "ax1.set_title('Training Dataset')\n",
    "\n",
    "# Plot the second bar chart on the second subplot\n",
    "ax2.bar(categories2, values2, color=[\"#16a34a\", \"#0ea5e9\", \"#0ea5e9\", \"#0ea5e9\"])\n",
    "ax2.set_xlabel('Animal Subclasses')\n",
    "ax2.set_ylabel('Accuracy')\n",
    "ax2.set_title('Validation Dataset')\n",
    "\n",
    "# Adjust the layout to avoid overlapping\n",
    "plt.tight_layout()\n",
    "\n",
    "# Show the plot\n",
    "plt.show()\n"
   ]
  },
  {
   "cell_type": "code",
   "execution_count": null,
   "metadata": {},
   "outputs": [],
   "source": []
  }
 ],
 "metadata": {
  "kernelspec": {
   "display_name": "Python 3",
   "language": "python",
   "name": "python3"
  },
  "language_info": {
   "codemirror_mode": {
    "name": "ipython",
    "version": 3
   },
   "file_extension": ".py",
   "mimetype": "text/x-python",
   "name": "python",
   "nbconvert_exporter": "python",
   "pygments_lexer": "ipython3",
   "version": "3.10.11"
  },
  "orig_nbformat": 4
 },
 "nbformat": 4,
 "nbformat_minor": 2
}
