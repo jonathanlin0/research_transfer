{
 "cells": [
  {
   "cell_type": "code",
   "execution_count": 2,
   "metadata": {},
   "outputs": [],
   "source": [
    "import json\n",
    "import shutil"
   ]
  },
  {
   "cell_type": "code",
   "execution_count": 3,
   "metadata": {},
   "outputs": [
    {
     "name": "stdout",
     "output_type": "stream",
     "text": [
      "dict_keys(['info', 'licenses', 'images', 'annotations', 'categories'])\n",
      "['area', 'bbox', 'category_id', 'id', 'image_id', 'iscrowd', 'keypoints', 'num_keypoints', 'segmentation']\n",
      "dict_keys(['info', 'licenses', 'images', 'categories', 'annotations'])\n",
      "['animal', 'animal_class', 'animal_parent_class', 'animal_subclass', 'area', 'bbox', 'category_id', 'center', 'id', 'image_id', 'iscrowd', 'keypoints', 'num_keypoints', 'protocol', 'scale', 'train_test']\n"
     ]
    }
   ],
   "source": [
    "path = \"Testing/deep-high-resolution-net.pytorch/data/coco/annotations/person_keypoints_val2017.json\"\n",
    "f = open(path, \"r\")\n",
    "text = json.load(f)\n",
    "f.close()\n",
    "\n",
    "print(text.keys())\n",
    "print(sorted(list(text[\"annotations\"][0].keys())))\n",
    "\n",
    "path = \"datasets/Animal_Kingdom/pose_estimation/annotation_coco/ak_P1/test.json\"\n",
    "f = open(path, \"r\")\n",
    "text = json.load(f)\n",
    "f.close()\n",
    "\n",
    "print(text.keys())\n",
    "print(sorted(list(text[\"annotations\"][0].keys())))"
   ]
  },
  {
   "cell_type": "code",
   "execution_count": 2,
   "metadata": {},
   "outputs": [
    {
     "name": "stdout",
     "output_type": "stream",
     "text": [
      "total images: 5980\n"
     ]
    }
   ],
   "source": [
    "# copy the training images into the hrnet folder\n",
    "path = \"datasets/Animal_Kingdom/pose_estimation/annotation_coco/ak_P3_mammal/train.json\"\n",
    "path_root = \"datasets/Animal_Kingdom/action_recognition/dataset/\"\n",
    "copy_dest = \"benchmarks/deep-high-resolution-net.pytorch/data/coco/images/train2017\"\n",
    "f = open(path, \"r\")\n",
    "data = json.load(f)[\"images\"]\n",
    "f.close()\n",
    "total = len(data)\n",
    "print(f\"total images: {total}\")\n",
    "for i in range(len(data)):\n",
    "    curr_path = path_root + data[i][\"file_name\"]\n",
    "    # print(f\"{(i / total) * 100:.2f}%\")\n",
    "    shutil.copy(curr_path, copy_dest)"
   ]
  },
  {
   "cell_type": "code",
   "execution_count": 3,
   "metadata": {},
   "outputs": [
    {
     "name": "stdout",
     "output_type": "stream",
     "text": [
      "total images: 1496\n"
     ]
    }
   ],
   "source": [
    "# copy the validation images into the hrnet folder\n",
    "path = \"datasets/Animal_Kingdom/pose_estimation/annotation_coco/ak_P3_mammal/test.json\"\n",
    "path_root = \"datasets/Animal_Kingdom/action_recognition/dataset/\"\n",
    "copy_dest = \"benchmarks/deep-high-resolution-net.pytorch/data/coco/images/val2017\"\n",
    "f = open(path, \"r\")\n",
    "data = json.load(f)[\"images\"]\n",
    "f.close()\n",
    "total = len(data)\n",
    "print(f\"total images: {total}\")\n",
    "for i in range(len(data)):\n",
    "    curr_path = path_root + data[i][\"file_name\"]\n",
    "    # print(f\"{(i / total) * 100:.2f}%\")\n",
    "    shutil.copy(curr_path, copy_dest)"
   ]
  },
  {
   "cell_type": "code",
   "execution_count": 7,
   "metadata": {},
   "outputs": [
    {
     "name": "stdout",
     "output_type": "stream",
     "text": [
      "{'image': 'AAOYRUDX/AAOYRUDX_f000027.jpg', 'animal': 'Elephant', 'animal_parent_class': 'Mammal', 'animal_class': 'Mammal', 'animal_subclass': 'Elephant', 'joints_vis': [1, 1, 1, 0, 0, 0, 0, 1, 0, 1, 0, 1, 0, 0, 0, 0, 0, 0, 0, 0, 0, 0, 0], 'joints': [[220.9914529915, 135.6838905775], [238.4957264957, 151.0030395137], [199.1111111111, 153.1914893617], [-1.0, -1.0], [-1.0, -1.0], [-1.0, -1.0], [-1.0, -1.0], [260.3760683761, 154.2857142857], [-1.0, -1.0], [250.5299145299, 195.8662613982], [-1.0, -1.0], [251.6239316239, 269.179331307], [-1.0, -1.0], [-1.0, -1.0], [-1.0, -1.0], [-1.0, -1.0], [-1.0, -1.0], [-1.0, -1.0], [-1.0, -1.0], [-1.0, -1.0], [-1.0, -1.0], [-1.0, -1.0], [-1.0, -1.0]], 'scale': 0.6674772036, 'center': [229.7435897436, 202.4316109422], 'Protocol 3 mammal': 'test'}\n"
     ]
    }
   ],
   "source": [
    "f = open(\"benchmarks/hrnet/data/coco/annotations/person_keypoints_val2017.json\", \"r\")\n",
    "data = json.load(f)\n",
    "f.close()\n",
    "\n",
    "print(data[1])"
   ]
  },
  {
   "cell_type": "code",
   "execution_count": null,
   "metadata": {},
   "outputs": [],
   "source": []
  }
 ],
 "metadata": {
  "kernelspec": {
   "display_name": "jonathan",
   "language": "python",
   "name": "python3"
  },
  "language_info": {
   "codemirror_mode": {
    "name": "ipython",
    "version": 3
   },
   "file_extension": ".py",
   "mimetype": "text/x-python",
   "name": "python",
   "nbconvert_exporter": "python",
   "pygments_lexer": "ipython3",
   "version": "3.10.2"
  },
  "orig_nbformat": 4
 },
 "nbformat": 4,
 "nbformat_minor": 2
}
